{
 "cells": [
  {
   "cell_type": "markdown",
   "id": "fa8c6ab3",
   "metadata": {
    "_cell_guid": "9a0c444e-69f8-4b33-91ff-96e6f9b0f1a6",
    "_uuid": "483ff711-b4c7-4695-a279-d90d6a897383",
    "execution": {
     "iopub.execute_input": "2023-08-05T18:19:52.180412Z",
     "iopub.status.busy": "2023-08-05T18:19:52.180056Z",
     "iopub.status.idle": "2023-08-05T18:19:52.185235Z",
     "shell.execute_reply": "2023-08-05T18:19:52.183827Z",
     "shell.execute_reply.started": "2023-08-05T18:19:52.180363Z"
    },
    "jupyter": {
     "outputs_hidden": false
    },
    "papermill": {
     "duration": 0.005783,
     "end_time": "2023-08-05T21:07:55.535599",
     "exception": false,
     "start_time": "2023-08-05T21:07:55.529816",
     "status": "completed"
    },
    "tags": []
   },
   "source": [
    "# Read data"
   ]
  },
  {
   "cell_type": "code",
   "execution_count": 1,
   "id": "c4eefd14",
   "metadata": {
    "execution": {
     "iopub.execute_input": "2023-08-05T21:07:55.547786Z",
     "iopub.status.busy": "2023-08-05T21:07:55.547374Z",
     "iopub.status.idle": "2023-08-05T21:07:55.558852Z",
     "shell.execute_reply": "2023-08-05T21:07:55.557768Z"
    },
    "papermill": {
     "duration": 0.020323,
     "end_time": "2023-08-05T21:07:55.561205",
     "exception": false,
     "start_time": "2023-08-05T21:07:55.540882",
     "status": "completed"
    },
    "tags": []
   },
   "outputs": [],
   "source": [
    "# This Python 3 environment comes with many helpful analytics libraries installed\n",
    "# It is defined by the kaggle/python Docker image: https://github.com/kaggle/docker-python\n",
    "# For example, here's several helpful packages to load\n",
    "\n",
    "import numpy as np # linear algebra\n",
    "import pandas as pd # data processing, CSV file I/O (e.g. pd.read_csv)"
   ]
  },
  {
   "cell_type": "code",
   "execution_count": 2,
   "id": "ac561f19",
   "metadata": {
    "_cell_guid": "efb996fc-c6dc-4e13-80be-e1ef86a23ca0",
    "_uuid": "230ba118-5297-4791-abb1-b6848a17551a",
    "collapsed": false,
    "execution": {
     "iopub.execute_input": "2023-08-05T21:07:55.573640Z",
     "iopub.status.busy": "2023-08-05T21:07:55.572795Z",
     "iopub.status.idle": "2023-08-05T21:07:55.577392Z",
     "shell.execute_reply": "2023-08-05T21:07:55.576466Z"
    },
    "jupyter": {
     "outputs_hidden": false
    },
    "papermill": {
     "duration": 0.013021,
     "end_time": "2023-08-05T21:07:55.579413",
     "exception": false,
     "start_time": "2023-08-05T21:07:55.566392",
     "status": "completed"
    },
    "tags": []
   },
   "outputs": [],
   "source": [
    "# Input data files are available in the read-only \"../input/\" directory\n",
    "# For example, running this (by clicking run or pressing Shift+Enter) will list all files under the input directory\n",
    "\n",
    "import os"
   ]
  },
  {
   "cell_type": "code",
   "execution_count": 3,
   "id": "3e13aac2",
   "metadata": {
    "_cell_guid": "f4a93a0b-db35-4935-bf54-bc5d399a6a7b",
    "_uuid": "a3bf68de-3d04-40c8-8811-9f11bf8c9ed7",
    "collapsed": false,
    "execution": {
     "iopub.execute_input": "2023-08-05T21:07:55.591698Z",
     "iopub.status.busy": "2023-08-05T21:07:55.591236Z",
     "iopub.status.idle": "2023-08-05T21:07:55.595989Z",
     "shell.execute_reply": "2023-08-05T21:07:55.595199Z"
    },
    "jupyter": {
     "outputs_hidden": false
    },
    "papermill": {
     "duration": 0.01322,
     "end_time": "2023-08-05T21:07:55.597985",
     "exception": false,
     "start_time": "2023-08-05T21:07:55.584765",
     "status": "completed"
    },
    "tags": []
   },
   "outputs": [],
   "source": [
    "# for dirname, _, filenames in os.walk('/kaggle/input'):\n",
    "#     print(dirname)\n",
    "#     for filename in filenames:\n",
    "#         print(os.path.join(dirname, filename))\n",
    "\n",
    "# You can write up to 20GB to the current directory (/kaggle/working/) that gets preserved as output when you create a version using \"Save & Run All\" \n",
    "# You can also write temporary files to /kaggle/temp/, but they won't be saved outside of the current session"
   ]
  },
  {
   "cell_type": "code",
   "execution_count": 4,
   "id": "139fe623",
   "metadata": {
    "_cell_guid": "8680948f-158d-44e8-9894-17b6571b3242",
    "_uuid": "f74155d0-8ad0-4eb0-9fec-928214105099",
    "collapsed": false,
    "execution": {
     "iopub.execute_input": "2023-08-05T21:07:55.609817Z",
     "iopub.status.busy": "2023-08-05T21:07:55.609095Z",
     "iopub.status.idle": "2023-08-05T21:07:55.616844Z",
     "shell.execute_reply": "2023-08-05T21:07:55.615765Z"
    },
    "jupyter": {
     "outputs_hidden": false
    },
    "papermill": {
     "duration": 0.016085,
     "end_time": "2023-08-05T21:07:55.619111",
     "exception": false,
     "start_time": "2023-08-05T21:07:55.603026",
     "status": "completed"
    },
    "tags": []
   },
   "outputs": [
    {
     "data": {
      "text/plain": [
       "['rsna-2023-abdominal-trauma-detection']"
      ]
     },
     "execution_count": 4,
     "metadata": {},
     "output_type": "execute_result"
    }
   ],
   "source": [
    "root = '/kaggle/input'\n",
    "main_root = os.listdir(root)\n",
    "main_root"
   ]
  },
  {
   "cell_type": "code",
   "execution_count": 5,
   "id": "1ea39a7e",
   "metadata": {
    "_cell_guid": "68091928-1d91-4889-bf64-905416c235e9",
    "_uuid": "85f5e162-985a-43d1-83a4-2757c9a9acb2",
    "collapsed": false,
    "execution": {
     "iopub.execute_input": "2023-08-05T21:07:55.632028Z",
     "iopub.status.busy": "2023-08-05T21:07:55.631035Z",
     "iopub.status.idle": "2023-08-05T21:07:55.639177Z",
     "shell.execute_reply": "2023-08-05T21:07:55.638248Z"
    },
    "jupyter": {
     "outputs_hidden": false
    },
    "papermill": {
     "duration": 0.016786,
     "end_time": "2023-08-05T21:07:55.641245",
     "exception": false,
     "start_time": "2023-08-05T21:07:55.624459",
     "status": "completed"
    },
    "tags": []
   },
   "outputs": [
    {
     "data": {
      "text/plain": [
       "['train_dicom_tags.parquet',\n",
       " 'sample_submission.csv',\n",
       " 'train_series_meta.csv',\n",
       " 'train_images',\n",
       " 'test_dicom_tags.parquet',\n",
       " 'segmentations',\n",
       " 'train.csv',\n",
       " 'test_series_meta.csv',\n",
       " 'image_level_labels.csv',\n",
       " 'test_images']"
      ]
     },
     "execution_count": 5,
     "metadata": {},
     "output_type": "execute_result"
    }
   ],
   "source": [
    "new_root  = os.path.join(root, main_root[0])\n",
    "main_tree = os.listdir(new_root)\n",
    "main_tree"
   ]
  },
  {
   "cell_type": "code",
   "execution_count": 6,
   "id": "4c212527",
   "metadata": {
    "execution": {
     "iopub.execute_input": "2023-08-05T21:07:55.654046Z",
     "iopub.status.busy": "2023-08-05T21:07:55.653339Z",
     "iopub.status.idle": "2023-08-05T21:07:55.660621Z",
     "shell.execute_reply": "2023-08-05T21:07:55.659556Z"
    },
    "papermill": {
     "duration": 0.016119,
     "end_time": "2023-08-05T21:07:55.662792",
     "exception": false,
     "start_time": "2023-08-05T21:07:55.646673",
     "status": "completed"
    },
    "tags": []
   },
   "outputs": [
    {
     "data": {
      "text/plain": [
       "['train_dicom_tags.parquet',\n",
       " 'sample_submission.csv',\n",
       " 'train_series_meta.csv',\n",
       " 'test_dicom_tags.parquet',\n",
       " 'train.csv',\n",
       " 'test_series_meta.csv',\n",
       " 'image_level_labels.csv']"
      ]
     },
     "execution_count": 6,
     "metadata": {},
     "output_type": "execute_result"
    }
   ],
   "source": [
    "main_files = [f for f in main_tree if len(f.split('.')) > 1]\n",
    "main_files"
   ]
  },
  {
   "cell_type": "code",
   "execution_count": 7,
   "id": "6108ad8f",
   "metadata": {
    "execution": {
     "iopub.execute_input": "2023-08-05T21:07:55.677250Z",
     "iopub.status.busy": "2023-08-05T21:07:55.676875Z",
     "iopub.status.idle": "2023-08-05T21:07:55.683681Z",
     "shell.execute_reply": "2023-08-05T21:07:55.682724Z"
    },
    "papermill": {
     "duration": 0.017481,
     "end_time": "2023-08-05T21:07:55.685845",
     "exception": false,
     "start_time": "2023-08-05T21:07:55.668364",
     "status": "completed"
    },
    "tags": []
   },
   "outputs": [
    {
     "data": {
      "text/plain": [
       "['train_images', 'segmentations', 'test_images']"
      ]
     },
     "execution_count": 7,
     "metadata": {},
     "output_type": "execute_result"
    }
   ],
   "source": [
    "main_folders = [f for f in main_tree if f not in main_files]\n",
    "main_folders"
   ]
  },
  {
   "cell_type": "code",
   "execution_count": 8,
   "id": "c72e4050",
   "metadata": {
    "execution": {
     "iopub.execute_input": "2023-08-05T21:07:55.698676Z",
     "iopub.status.busy": "2023-08-05T21:07:55.698339Z",
     "iopub.status.idle": "2023-08-05T21:07:55.746933Z",
     "shell.execute_reply": "2023-08-05T21:07:55.746065Z"
    },
    "papermill": {
     "duration": 0.057965,
     "end_time": "2023-08-05T21:07:55.749514",
     "exception": false,
     "start_time": "2023-08-05T21:07:55.691549",
     "status": "completed"
    },
    "tags": []
   },
   "outputs": [
    {
     "data": {
      "text/html": [
       "<div>\n",
       "<style scoped>\n",
       "    .dataframe tbody tr th:only-of-type {\n",
       "        vertical-align: middle;\n",
       "    }\n",
       "\n",
       "    .dataframe tbody tr th {\n",
       "        vertical-align: top;\n",
       "    }\n",
       "\n",
       "    .dataframe thead th {\n",
       "        text-align: right;\n",
       "    }\n",
       "</style>\n",
       "<table border=\"1\" class=\"dataframe\">\n",
       "  <thead>\n",
       "    <tr style=\"text-align: right;\">\n",
       "      <th></th>\n",
       "      <th>patient_id</th>\n",
       "      <th>bowel_healthy</th>\n",
       "      <th>bowel_injury</th>\n",
       "      <th>extravasation_healthy</th>\n",
       "      <th>extravasation_injury</th>\n",
       "      <th>kidney_healthy</th>\n",
       "      <th>kidney_low</th>\n",
       "      <th>kidney_high</th>\n",
       "      <th>liver_healthy</th>\n",
       "      <th>liver_low</th>\n",
       "      <th>liver_high</th>\n",
       "      <th>spleen_healthy</th>\n",
       "      <th>spleen_low</th>\n",
       "      <th>spleen_high</th>\n",
       "      <th>any_injury</th>\n",
       "    </tr>\n",
       "  </thead>\n",
       "  <tbody>\n",
       "    <tr>\n",
       "      <th>0</th>\n",
       "      <td>10004</td>\n",
       "      <td>1</td>\n",
       "      <td>0</td>\n",
       "      <td>0</td>\n",
       "      <td>1</td>\n",
       "      <td>0</td>\n",
       "      <td>1</td>\n",
       "      <td>0</td>\n",
       "      <td>1</td>\n",
       "      <td>0</td>\n",
       "      <td>0</td>\n",
       "      <td>0</td>\n",
       "      <td>0</td>\n",
       "      <td>1</td>\n",
       "      <td>1</td>\n",
       "    </tr>\n",
       "    <tr>\n",
       "      <th>1</th>\n",
       "      <td>10005</td>\n",
       "      <td>1</td>\n",
       "      <td>0</td>\n",
       "      <td>1</td>\n",
       "      <td>0</td>\n",
       "      <td>1</td>\n",
       "      <td>0</td>\n",
       "      <td>0</td>\n",
       "      <td>1</td>\n",
       "      <td>0</td>\n",
       "      <td>0</td>\n",
       "      <td>1</td>\n",
       "      <td>0</td>\n",
       "      <td>0</td>\n",
       "      <td>0</td>\n",
       "    </tr>\n",
       "    <tr>\n",
       "      <th>2</th>\n",
       "      <td>10007</td>\n",
       "      <td>1</td>\n",
       "      <td>0</td>\n",
       "      <td>1</td>\n",
       "      <td>0</td>\n",
       "      <td>1</td>\n",
       "      <td>0</td>\n",
       "      <td>0</td>\n",
       "      <td>1</td>\n",
       "      <td>0</td>\n",
       "      <td>0</td>\n",
       "      <td>1</td>\n",
       "      <td>0</td>\n",
       "      <td>0</td>\n",
       "      <td>0</td>\n",
       "    </tr>\n",
       "    <tr>\n",
       "      <th>3</th>\n",
       "      <td>10026</td>\n",
       "      <td>1</td>\n",
       "      <td>0</td>\n",
       "      <td>1</td>\n",
       "      <td>0</td>\n",
       "      <td>1</td>\n",
       "      <td>0</td>\n",
       "      <td>0</td>\n",
       "      <td>1</td>\n",
       "      <td>0</td>\n",
       "      <td>0</td>\n",
       "      <td>1</td>\n",
       "      <td>0</td>\n",
       "      <td>0</td>\n",
       "      <td>0</td>\n",
       "    </tr>\n",
       "    <tr>\n",
       "      <th>4</th>\n",
       "      <td>10051</td>\n",
       "      <td>1</td>\n",
       "      <td>0</td>\n",
       "      <td>1</td>\n",
       "      <td>0</td>\n",
       "      <td>1</td>\n",
       "      <td>0</td>\n",
       "      <td>0</td>\n",
       "      <td>1</td>\n",
       "      <td>0</td>\n",
       "      <td>0</td>\n",
       "      <td>0</td>\n",
       "      <td>1</td>\n",
       "      <td>0</td>\n",
       "      <td>1</td>\n",
       "    </tr>\n",
       "    <tr>\n",
       "      <th>...</th>\n",
       "      <td>...</td>\n",
       "      <td>...</td>\n",
       "      <td>...</td>\n",
       "      <td>...</td>\n",
       "      <td>...</td>\n",
       "      <td>...</td>\n",
       "      <td>...</td>\n",
       "      <td>...</td>\n",
       "      <td>...</td>\n",
       "      <td>...</td>\n",
       "      <td>...</td>\n",
       "      <td>...</td>\n",
       "      <td>...</td>\n",
       "      <td>...</td>\n",
       "      <td>...</td>\n",
       "    </tr>\n",
       "    <tr>\n",
       "      <th>3142</th>\n",
       "      <td>9951</td>\n",
       "      <td>1</td>\n",
       "      <td>0</td>\n",
       "      <td>1</td>\n",
       "      <td>0</td>\n",
       "      <td>1</td>\n",
       "      <td>0</td>\n",
       "      <td>0</td>\n",
       "      <td>1</td>\n",
       "      <td>0</td>\n",
       "      <td>0</td>\n",
       "      <td>1</td>\n",
       "      <td>0</td>\n",
       "      <td>0</td>\n",
       "      <td>0</td>\n",
       "    </tr>\n",
       "    <tr>\n",
       "      <th>3143</th>\n",
       "      <td>9960</td>\n",
       "      <td>1</td>\n",
       "      <td>0</td>\n",
       "      <td>1</td>\n",
       "      <td>0</td>\n",
       "      <td>1</td>\n",
       "      <td>0</td>\n",
       "      <td>0</td>\n",
       "      <td>1</td>\n",
       "      <td>0</td>\n",
       "      <td>0</td>\n",
       "      <td>1</td>\n",
       "      <td>0</td>\n",
       "      <td>0</td>\n",
       "      <td>0</td>\n",
       "    </tr>\n",
       "    <tr>\n",
       "      <th>3144</th>\n",
       "      <td>9961</td>\n",
       "      <td>1</td>\n",
       "      <td>0</td>\n",
       "      <td>1</td>\n",
       "      <td>0</td>\n",
       "      <td>1</td>\n",
       "      <td>0</td>\n",
       "      <td>0</td>\n",
       "      <td>1</td>\n",
       "      <td>0</td>\n",
       "      <td>0</td>\n",
       "      <td>1</td>\n",
       "      <td>0</td>\n",
       "      <td>0</td>\n",
       "      <td>0</td>\n",
       "    </tr>\n",
       "    <tr>\n",
       "      <th>3145</th>\n",
       "      <td>9980</td>\n",
       "      <td>1</td>\n",
       "      <td>0</td>\n",
       "      <td>1</td>\n",
       "      <td>0</td>\n",
       "      <td>1</td>\n",
       "      <td>0</td>\n",
       "      <td>0</td>\n",
       "      <td>1</td>\n",
       "      <td>0</td>\n",
       "      <td>0</td>\n",
       "      <td>0</td>\n",
       "      <td>0</td>\n",
       "      <td>1</td>\n",
       "      <td>1</td>\n",
       "    </tr>\n",
       "    <tr>\n",
       "      <th>3146</th>\n",
       "      <td>9983</td>\n",
       "      <td>1</td>\n",
       "      <td>0</td>\n",
       "      <td>1</td>\n",
       "      <td>0</td>\n",
       "      <td>1</td>\n",
       "      <td>0</td>\n",
       "      <td>0</td>\n",
       "      <td>1</td>\n",
       "      <td>0</td>\n",
       "      <td>0</td>\n",
       "      <td>0</td>\n",
       "      <td>0</td>\n",
       "      <td>1</td>\n",
       "      <td>1</td>\n",
       "    </tr>\n",
       "  </tbody>\n",
       "</table>\n",
       "<p>3147 rows × 15 columns</p>\n",
       "</div>"
      ],
      "text/plain": [
       "      patient_id  bowel_healthy  bowel_injury  extravasation_healthy  \\\n",
       "0          10004              1             0                      0   \n",
       "1          10005              1             0                      1   \n",
       "2          10007              1             0                      1   \n",
       "3          10026              1             0                      1   \n",
       "4          10051              1             0                      1   \n",
       "...          ...            ...           ...                    ...   \n",
       "3142        9951              1             0                      1   \n",
       "3143        9960              1             0                      1   \n",
       "3144        9961              1             0                      1   \n",
       "3145        9980              1             0                      1   \n",
       "3146        9983              1             0                      1   \n",
       "\n",
       "      extravasation_injury  kidney_healthy  kidney_low  kidney_high  \\\n",
       "0                        1               0           1            0   \n",
       "1                        0               1           0            0   \n",
       "2                        0               1           0            0   \n",
       "3                        0               1           0            0   \n",
       "4                        0               1           0            0   \n",
       "...                    ...             ...         ...          ...   \n",
       "3142                     0               1           0            0   \n",
       "3143                     0               1           0            0   \n",
       "3144                     0               1           0            0   \n",
       "3145                     0               1           0            0   \n",
       "3146                     0               1           0            0   \n",
       "\n",
       "      liver_healthy  liver_low  liver_high  spleen_healthy  spleen_low  \\\n",
       "0                 1          0           0               0           0   \n",
       "1                 1          0           0               1           0   \n",
       "2                 1          0           0               1           0   \n",
       "3                 1          0           0               1           0   \n",
       "4                 1          0           0               0           1   \n",
       "...             ...        ...         ...             ...         ...   \n",
       "3142              1          0           0               1           0   \n",
       "3143              1          0           0               1           0   \n",
       "3144              1          0           0               1           0   \n",
       "3145              1          0           0               0           0   \n",
       "3146              1          0           0               0           0   \n",
       "\n",
       "      spleen_high  any_injury  \n",
       "0               1           1  \n",
       "1               0           0  \n",
       "2               0           0  \n",
       "3               0           0  \n",
       "4               0           1  \n",
       "...           ...         ...  \n",
       "3142            0           0  \n",
       "3143            0           0  \n",
       "3144            0           0  \n",
       "3145            1           1  \n",
       "3146            1           1  \n",
       "\n",
       "[3147 rows x 15 columns]"
      ]
     },
     "execution_count": 8,
     "metadata": {},
     "output_type": "execute_result"
    }
   ],
   "source": [
    "f_name     = os.path.join(new_root, main_files[-3])\n",
    "train_file = pd.read_csv(f_name)\n",
    "train_file"
   ]
  },
  {
   "cell_type": "code",
   "execution_count": 9,
   "id": "3ff73537",
   "metadata": {
    "execution": {
     "iopub.execute_input": "2023-08-05T21:07:55.763825Z",
     "iopub.status.busy": "2023-08-05T21:07:55.763420Z",
     "iopub.status.idle": "2023-08-05T21:07:55.768041Z",
     "shell.execute_reply": "2023-08-05T21:07:55.767019Z"
    },
    "papermill": {
     "duration": 0.014305,
     "end_time": "2023-08-05T21:07:55.770207",
     "exception": false,
     "start_time": "2023-08-05T21:07:55.755902",
     "status": "completed"
    },
    "tags": []
   },
   "outputs": [],
   "source": [
    "# Notes\n",
    "# Each row is for unique patient\n",
    "# patient id is not organised in order\n",
    "\n",
    "# bowel - good/bad\n",
    "# extra... - good/bad\n",
    "# kidney - healthy/low/high\n",
    "# liver - healthy/low/high\n",
    "# bowel - healthy/low/high"
   ]
  },
  {
   "cell_type": "code",
   "execution_count": 10,
   "id": "d4c5066a",
   "metadata": {
    "execution": {
     "iopub.execute_input": "2023-08-05T21:07:55.784208Z",
     "iopub.status.busy": "2023-08-05T21:07:55.783854Z",
     "iopub.status.idle": "2023-08-05T21:07:55.812867Z",
     "shell.execute_reply": "2023-08-05T21:07:55.811767Z"
    },
    "papermill": {
     "duration": 0.038686,
     "end_time": "2023-08-05T21:07:55.815150",
     "exception": false,
     "start_time": "2023-08-05T21:07:55.776464",
     "status": "completed"
    },
    "tags": []
   },
   "outputs": [
    {
     "data": {
      "text/html": [
       "<div>\n",
       "<style scoped>\n",
       "    .dataframe tbody tr th:only-of-type {\n",
       "        vertical-align: middle;\n",
       "    }\n",
       "\n",
       "    .dataframe tbody tr th {\n",
       "        vertical-align: top;\n",
       "    }\n",
       "\n",
       "    .dataframe thead th {\n",
       "        text-align: right;\n",
       "    }\n",
       "</style>\n",
       "<table border=\"1\" class=\"dataframe\">\n",
       "  <thead>\n",
       "    <tr style=\"text-align: right;\">\n",
       "      <th></th>\n",
       "      <th>patient_id</th>\n",
       "      <th>series_id</th>\n",
       "      <th>aortic_hu</th>\n",
       "      <th>incomplete_organ</th>\n",
       "    </tr>\n",
       "  </thead>\n",
       "  <tbody>\n",
       "    <tr>\n",
       "      <th>0</th>\n",
       "      <td>10004</td>\n",
       "      <td>21057</td>\n",
       "      <td>146.00</td>\n",
       "      <td>0</td>\n",
       "    </tr>\n",
       "    <tr>\n",
       "      <th>1</th>\n",
       "      <td>10004</td>\n",
       "      <td>51033</td>\n",
       "      <td>454.75</td>\n",
       "      <td>0</td>\n",
       "    </tr>\n",
       "    <tr>\n",
       "      <th>2</th>\n",
       "      <td>10005</td>\n",
       "      <td>18667</td>\n",
       "      <td>187.00</td>\n",
       "      <td>0</td>\n",
       "    </tr>\n",
       "    <tr>\n",
       "      <th>3</th>\n",
       "      <td>10007</td>\n",
       "      <td>47578</td>\n",
       "      <td>329.00</td>\n",
       "      <td>0</td>\n",
       "    </tr>\n",
       "    <tr>\n",
       "      <th>4</th>\n",
       "      <td>10026</td>\n",
       "      <td>29700</td>\n",
       "      <td>327.00</td>\n",
       "      <td>0</td>\n",
       "    </tr>\n",
       "    <tr>\n",
       "      <th>...</th>\n",
       "      <td>...</td>\n",
       "      <td>...</td>\n",
       "      <td>...</td>\n",
       "      <td>...</td>\n",
       "    </tr>\n",
       "    <tr>\n",
       "      <th>4706</th>\n",
       "      <td>9961</td>\n",
       "      <td>2003</td>\n",
       "      <td>381.00</td>\n",
       "      <td>0</td>\n",
       "    </tr>\n",
       "    <tr>\n",
       "      <th>4707</th>\n",
       "      <td>9961</td>\n",
       "      <td>63032</td>\n",
       "      <td>143.75</td>\n",
       "      <td>0</td>\n",
       "    </tr>\n",
       "    <tr>\n",
       "      <th>4708</th>\n",
       "      <td>9980</td>\n",
       "      <td>40214</td>\n",
       "      <td>103.00</td>\n",
       "      <td>0</td>\n",
       "    </tr>\n",
       "    <tr>\n",
       "      <th>4709</th>\n",
       "      <td>9980</td>\n",
       "      <td>40466</td>\n",
       "      <td>135.00</td>\n",
       "      <td>0</td>\n",
       "    </tr>\n",
       "    <tr>\n",
       "      <th>4710</th>\n",
       "      <td>9983</td>\n",
       "      <td>10806</td>\n",
       "      <td>168.00</td>\n",
       "      <td>0</td>\n",
       "    </tr>\n",
       "  </tbody>\n",
       "</table>\n",
       "<p>4711 rows × 4 columns</p>\n",
       "</div>"
      ],
      "text/plain": [
       "      patient_id  series_id  aortic_hu  incomplete_organ\n",
       "0          10004      21057     146.00                 0\n",
       "1          10004      51033     454.75                 0\n",
       "2          10005      18667     187.00                 0\n",
       "3          10007      47578     329.00                 0\n",
       "4          10026      29700     327.00                 0\n",
       "...          ...        ...        ...               ...\n",
       "4706        9961       2003     381.00                 0\n",
       "4707        9961      63032     143.75                 0\n",
       "4708        9980      40214     103.00                 0\n",
       "4709        9980      40466     135.00                 0\n",
       "4710        9983      10806     168.00                 0\n",
       "\n",
       "[4711 rows x 4 columns]"
      ]
     },
     "execution_count": 10,
     "metadata": {},
     "output_type": "execute_result"
    }
   ],
   "source": [
    "f_name     = os.path.join(new_root, main_files[2])\n",
    "train_meta = pd.read_csv(f_name)\n",
    "train_meta"
   ]
  },
  {
   "cell_type": "code",
   "execution_count": 11,
   "id": "391969f8",
   "metadata": {
    "execution": {
     "iopub.execute_input": "2023-08-05T21:07:55.830776Z",
     "iopub.status.busy": "2023-08-05T21:07:55.829759Z",
     "iopub.status.idle": "2023-08-05T21:07:55.865401Z",
     "shell.execute_reply": "2023-08-05T21:07:55.864491Z"
    },
    "papermill": {
     "duration": 0.045868,
     "end_time": "2023-08-05T21:07:55.867736",
     "exception": false,
     "start_time": "2023-08-05T21:07:55.821868",
     "status": "completed"
    },
    "tags": []
   },
   "outputs": [
    {
     "data": {
      "text/html": [
       "<div>\n",
       "<style scoped>\n",
       "    .dataframe tbody tr th:only-of-type {\n",
       "        vertical-align: middle;\n",
       "    }\n",
       "\n",
       "    .dataframe tbody tr th {\n",
       "        vertical-align: top;\n",
       "    }\n",
       "\n",
       "    .dataframe thead th {\n",
       "        text-align: right;\n",
       "    }\n",
       "</style>\n",
       "<table border=\"1\" class=\"dataframe\">\n",
       "  <thead>\n",
       "    <tr style=\"text-align: right;\">\n",
       "      <th></th>\n",
       "      <th>patient_id</th>\n",
       "      <th>series_id</th>\n",
       "      <th>instance_number</th>\n",
       "      <th>injury_name</th>\n",
       "    </tr>\n",
       "  </thead>\n",
       "  <tbody>\n",
       "    <tr>\n",
       "      <th>0</th>\n",
       "      <td>10004</td>\n",
       "      <td>21057</td>\n",
       "      <td>362</td>\n",
       "      <td>Active_Extravasation</td>\n",
       "    </tr>\n",
       "    <tr>\n",
       "      <th>1</th>\n",
       "      <td>10004</td>\n",
       "      <td>21057</td>\n",
       "      <td>363</td>\n",
       "      <td>Active_Extravasation</td>\n",
       "    </tr>\n",
       "    <tr>\n",
       "      <th>2</th>\n",
       "      <td>10004</td>\n",
       "      <td>21057</td>\n",
       "      <td>364</td>\n",
       "      <td>Active_Extravasation</td>\n",
       "    </tr>\n",
       "    <tr>\n",
       "      <th>3</th>\n",
       "      <td>10004</td>\n",
       "      <td>21057</td>\n",
       "      <td>365</td>\n",
       "      <td>Active_Extravasation</td>\n",
       "    </tr>\n",
       "    <tr>\n",
       "      <th>4</th>\n",
       "      <td>10004</td>\n",
       "      <td>21057</td>\n",
       "      <td>366</td>\n",
       "      <td>Active_Extravasation</td>\n",
       "    </tr>\n",
       "    <tr>\n",
       "      <th>...</th>\n",
       "      <td>...</td>\n",
       "      <td>...</td>\n",
       "      <td>...</td>\n",
       "      <td>...</td>\n",
       "    </tr>\n",
       "    <tr>\n",
       "      <th>12024</th>\n",
       "      <td>9632</td>\n",
       "      <td>3750</td>\n",
       "      <td>155</td>\n",
       "      <td>Active_Extravasation</td>\n",
       "    </tr>\n",
       "    <tr>\n",
       "      <th>12025</th>\n",
       "      <td>9632</td>\n",
       "      <td>3750</td>\n",
       "      <td>156</td>\n",
       "      <td>Active_Extravasation</td>\n",
       "    </tr>\n",
       "    <tr>\n",
       "      <th>12026</th>\n",
       "      <td>9632</td>\n",
       "      <td>3750</td>\n",
       "      <td>157</td>\n",
       "      <td>Active_Extravasation</td>\n",
       "    </tr>\n",
       "    <tr>\n",
       "      <th>12027</th>\n",
       "      <td>9632</td>\n",
       "      <td>3750</td>\n",
       "      <td>158</td>\n",
       "      <td>Active_Extravasation</td>\n",
       "    </tr>\n",
       "    <tr>\n",
       "      <th>12028</th>\n",
       "      <td>9632</td>\n",
       "      <td>3750</td>\n",
       "      <td>159</td>\n",
       "      <td>Active_Extravasation</td>\n",
       "    </tr>\n",
       "  </tbody>\n",
       "</table>\n",
       "<p>12029 rows × 4 columns</p>\n",
       "</div>"
      ],
      "text/plain": [
       "       patient_id  series_id  instance_number           injury_name\n",
       "0           10004      21057              362  Active_Extravasation\n",
       "1           10004      21057              363  Active_Extravasation\n",
       "2           10004      21057              364  Active_Extravasation\n",
       "3           10004      21057              365  Active_Extravasation\n",
       "4           10004      21057              366  Active_Extravasation\n",
       "...           ...        ...              ...                   ...\n",
       "12024        9632       3750              155  Active_Extravasation\n",
       "12025        9632       3750              156  Active_Extravasation\n",
       "12026        9632       3750              157  Active_Extravasation\n",
       "12027        9632       3750              158  Active_Extravasation\n",
       "12028        9632       3750              159  Active_Extravasation\n",
       "\n",
       "[12029 rows x 4 columns]"
      ]
     },
     "execution_count": 11,
     "metadata": {},
     "output_type": "execute_result"
    }
   ],
   "source": [
    "f_name       = os.path.join(new_root, main_files[-1])\n",
    "image_labels = pd.read_csv(f_name)\n",
    "image_labels"
   ]
  },
  {
   "cell_type": "code",
   "execution_count": null,
   "id": "ccea75fe",
   "metadata": {
    "papermill": {
     "duration": 0.006658,
     "end_time": "2023-08-05T21:07:55.881354",
     "exception": false,
     "start_time": "2023-08-05T21:07:55.874696",
     "status": "completed"
    },
    "tags": []
   },
   "outputs": [],
   "source": []
  }
 ],
 "metadata": {
  "kernelspec": {
   "display_name": "Python 3",
   "language": "python",
   "name": "python3"
  },
  "language_info": {
   "codemirror_mode": {
    "name": "ipython",
    "version": 3
   },
   "file_extension": ".py",
   "mimetype": "text/x-python",
   "name": "python",
   "nbconvert_exporter": "python",
   "pygments_lexer": "ipython3",
   "version": "3.10.12"
  },
  "papermill": {
   "default_parameters": {},
   "duration": 12.241835,
   "end_time": "2023-08-05T21:07:56.709970",
   "environment_variables": {},
   "exception": null,
   "input_path": "__notebook__.ipynb",
   "output_path": "__notebook__.ipynb",
   "parameters": {},
   "start_time": "2023-08-05T21:07:44.468135",
   "version": "2.4.0"
  }
 },
 "nbformat": 4,
 "nbformat_minor": 5
}
